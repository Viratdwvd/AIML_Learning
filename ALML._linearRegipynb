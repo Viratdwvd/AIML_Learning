{
  "nbformat": 4,
  "nbformat_minor": 0,
  "metadata": {
    "colab": {
      "provenance": [],
      "authorship_tag": "ABX9TyNhc/e+6B0nSWhW843xUKNu",
      "include_colab_link": true
    },
    "kernelspec": {
      "name": "python3",
      "display_name": "Python 3"
    },
    "language_info": {
      "name": "python"
    }
  },
  "cells": [
    {
      "cell_type": "markdown",
      "metadata": {
        "id": "view-in-github",
        "colab_type": "text"
      },
      "source": [
        "<a href=\"https://colab.research.google.com/github/Viratdwvd/AIML_Learning/blob/main/ALML.ipynb\" target=\"_parent\"><img src=\"https://colab.research.google.com/assets/colab-badge.svg\" alt=\"Open In Colab\"/></a>"
      ]
    },
    {
      "cell_type": "code",
      "execution_count": 43,
      "metadata": {
        "id": "fht3mLbUdiUr"
      },
      "outputs": [],
      "source": [
        "import matplotlib.pyplot as plt\n",
        "import numpy as np\n",
        "from sklearn import datasets, linear_model\n",
        "from sklearn.metrics import  mean_squared_error\n"
      ]
    },
    {
      "cell_type": "code",
      "source": [
        "diabetes = datasets.load_diabetes()\n",
        "print(diabetes.keys())"
      ],
      "metadata": {
        "colab": {
          "base_uri": "https://localhost:8080/"
        },
        "id": "gmMhpwU77xzp",
        "outputId": "4939a865-0991-4911-c91a-65447cf1c468"
      },
      "execution_count": 47,
      "outputs": [
        {
          "output_type": "stream",
          "name": "stdout",
          "text": [
            "dict_keys(['data', 'target', 'frame', 'DESCR', 'feature_names', 'data_filename', 'target_filename', 'data_module'])\n"
          ]
        }
      ]
    },
    {
      "cell_type": "code",
      "source": [
        "print(diabetes.data)"
      ],
      "metadata": {
        "colab": {
          "base_uri": "https://localhost:8080/"
        },
        "id": "GAlf5yxdDf8r",
        "outputId": "f027554e-c25d-4764-9092-2c57ffe0bec9"
      },
      "execution_count": 48,
      "outputs": [
        {
          "output_type": "stream",
          "name": "stdout",
          "text": [
            "[[ 0.03807591  0.05068012  0.06169621 ... -0.00259226  0.01990749\n",
            "  -0.01764613]\n",
            " [-0.00188202 -0.04464164 -0.05147406 ... -0.03949338 -0.06833155\n",
            "  -0.09220405]\n",
            " [ 0.08529891  0.05068012  0.04445121 ... -0.00259226  0.00286131\n",
            "  -0.02593034]\n",
            " ...\n",
            " [ 0.04170844  0.05068012 -0.01590626 ... -0.01107952 -0.04688253\n",
            "   0.01549073]\n",
            " [-0.04547248 -0.04464164  0.03906215 ...  0.02655962  0.04452873\n",
            "  -0.02593034]\n",
            " [-0.04547248 -0.04464164 -0.0730303  ... -0.03949338 -0.00422151\n",
            "   0.00306441]]\n"
          ]
        }
      ]
    },
    {
      "cell_type": "code",
      "source": [
        "\n",
        "print(diabetes.DESCR)"
      ],
      "metadata": {
        "id": "cYFwSONTDci9",
        "colab": {
          "base_uri": "https://localhost:8080/"
        },
        "outputId": "3326a52c-8bc2-46b6-8c8f-3a9c9a75bc1a"
      },
      "execution_count": 46,
      "outputs": [
        {
          "output_type": "stream",
          "name": "stdout",
          "text": [
            ".. _diabetes_dataset:\n",
            "\n",
            "Diabetes dataset\n",
            "----------------\n",
            "\n",
            "Ten baseline variables, age, sex, body mass index, average blood\n",
            "pressure, and six blood serum measurements were obtained for each of n =\n",
            "442 diabetes patients, as well as the response of interest, a\n",
            "quantitative measure of disease progression one year after baseline.\n",
            "\n",
            "**Data Set Characteristics:**\n",
            "\n",
            "  :Number of Instances: 442\n",
            "\n",
            "  :Number of Attributes: First 10 columns are numeric predictive values\n",
            "\n",
            "  :Target: Column 11 is a quantitative measure of disease progression one year after baseline\n",
            "\n",
            "  :Attribute Information:\n",
            "      - age     age in years\n",
            "      - sex\n",
            "      - bmi     body mass index\n",
            "      - bp      average blood pressure\n",
            "      - s1      tc, total serum cholesterol\n",
            "      - s2      ldl, low-density lipoproteins\n",
            "      - s3      hdl, high-density lipoproteins\n",
            "      - s4      tch, total cholesterol / HDL\n",
            "      - s5      ltg, possibly log of serum triglycerides level\n",
            "      - s6      glu, blood sugar level\n",
            "\n",
            "Note: Each of these 10 feature variables have been mean centered and scaled by the standard deviation times the square root of `n_samples` (i.e. the sum of squares of each column totals 1).\n",
            "\n",
            "Source URL:\n",
            "https://www4.stat.ncsu.edu/~boos/var.select/diabetes.html\n",
            "\n",
            "For more information see:\n",
            "Bradley Efron, Trevor Hastie, Iain Johnstone and Robert Tibshirani (2004) \"Least Angle Regression,\" Annals of Statistics (with discussion), 407-499.\n",
            "(https://web.stanford.edu/~hastie/Papers/LARS/LeastAngle_2002.pdf)\n",
            "\n"
          ]
        }
      ]
    },
    {
      "cell_type": "code",
      "source": [
        "diabetes_X = diabetes.data[:,2]\n",
        "print(diabetes_X)\n"
      ],
      "metadata": {
        "colab": {
          "base_uri": "https://localhost:8080/"
        },
        "id": "Tjz3J-ApCqsI",
        "outputId": "261fc794-ddc9-4d8e-c0cb-307d678fc4a3"
      },
      "execution_count": 68,
      "outputs": [
        {
          "output_type": "stream",
          "name": "stdout",
          "text": [
            "[ 0.06169621 -0.05147406  0.04445121 -0.01159501 -0.03638469 -0.04069594\n",
            " -0.04716281 -0.00189471  0.06169621  0.03906215 -0.08380842  0.01750591\n",
            " -0.02884001 -0.00189471 -0.02560657 -0.01806189  0.04229559  0.01211685\n",
            " -0.0105172  -0.01806189 -0.05686312 -0.02237314 -0.00405033  0.06061839\n",
            "  0.03582872 -0.01267283 -0.07734155  0.05954058 -0.02129532 -0.00620595\n",
            "  0.04445121 -0.06548562  0.12528712 -0.05039625 -0.06332999 -0.03099563\n",
            "  0.02289497  0.01103904  0.07139652  0.01427248 -0.00836158 -0.06764124\n",
            " -0.0105172  -0.02345095  0.06816308 -0.03530688 -0.01159501 -0.0730303\n",
            " -0.04177375  0.01427248 -0.00728377  0.0164281  -0.00943939 -0.01590626\n",
            "  0.0250506  -0.04931844  0.04121778 -0.06332999 -0.06440781 -0.02560657\n",
            " -0.00405033  0.00457217 -0.00728377 -0.0374625  -0.02560657 -0.02452876\n",
            " -0.01806189 -0.01482845 -0.02991782 -0.046085   -0.06979687  0.03367309\n",
            " -0.00405033 -0.02021751  0.00241654 -0.03099563  0.02828403 -0.03638469\n",
            " -0.05794093 -0.0374625   0.01211685 -0.02237314 -0.03530688  0.00996123\n",
            " -0.03961813  0.07139652 -0.07518593 -0.00620595 -0.04069594 -0.04824063\n",
            " -0.02560657  0.0519959   0.00457217 -0.06440781 -0.01698407 -0.05794093\n",
            "  0.00996123  0.08864151 -0.00512814 -0.06440781  0.01750591 -0.04500719\n",
            "  0.02828403  0.04121778  0.06492964 -0.03207344 -0.07626374  0.04984027\n",
            "  0.04552903 -0.00943939 -0.03207344  0.00457217  0.02073935  0.01427248\n",
            "  0.11019775  0.00133873  0.05846277 -0.02129532 -0.0105172  -0.04716281\n",
            "  0.00457217  0.01750591  0.08109682  0.0347509   0.02397278 -0.00836158\n",
            " -0.06117437 -0.00189471 -0.06225218  0.0164281   0.09618619 -0.06979687\n",
            " -0.02129532 -0.05362969  0.0433734   0.05630715 -0.0816528   0.04984027\n",
            "  0.11127556  0.06169621  0.01427248  0.04768465  0.01211685  0.00564998\n",
            "  0.04660684  0.12852056  0.05954058  0.09295276  0.01535029 -0.00512814\n",
            "  0.0703187  -0.00405033 -0.00081689 -0.04392938  0.02073935  0.06061839\n",
            " -0.0105172  -0.03315126 -0.06548562  0.0433734  -0.06225218  0.06385183\n",
            "  0.03043966  0.07247433 -0.0191397  -0.06656343 -0.06009656  0.06924089\n",
            "  0.05954058 -0.02668438 -0.02021751 -0.046085    0.07139652 -0.07949718\n",
            "  0.00996123 -0.03854032  0.01966154  0.02720622 -0.00836158 -0.01590626\n",
            "  0.00457217 -0.04285156  0.00564998 -0.03530688  0.02397278 -0.01806189\n",
            "  0.04229559 -0.0547075  -0.00297252 -0.06656343 -0.01267283 -0.04177375\n",
            " -0.03099563 -0.00512814 -0.05901875  0.0250506  -0.046085    0.00349435\n",
            "  0.05415152 -0.04500719 -0.05794093 -0.05578531  0.00133873  0.03043966\n",
            "  0.00672779  0.04660684  0.02612841  0.04552903  0.04013997 -0.01806189\n",
            "  0.01427248  0.03690653  0.00349435 -0.07087468 -0.03315126  0.09403057\n",
            "  0.03582872  0.03151747 -0.06548562 -0.04177375 -0.03961813 -0.03854032\n",
            " -0.02560657 -0.02345095 -0.06656343  0.03259528 -0.046085   -0.02991782\n",
            " -0.01267283 -0.01590626  0.07139652 -0.03099563  0.00026092  0.03690653\n",
            "  0.03906215 -0.01482845  0.00672779 -0.06871905 -0.00943939  0.01966154\n",
            "  0.07462995 -0.00836158 -0.02345095 -0.046085    0.05415152 -0.03530688\n",
            " -0.03207344 -0.0816528   0.04768465  0.06061839  0.05630715  0.09834182\n",
            "  0.05954058  0.03367309  0.05630715 -0.06548562  0.16085492 -0.05578531\n",
            " -0.02452876 -0.03638469 -0.00836158 -0.04177375  0.12744274 -0.07734155\n",
            "  0.02828403 -0.02560657 -0.06225218 -0.00081689  0.08864151 -0.03207344\n",
            "  0.03043966  0.00888341  0.00672779 -0.02021751 -0.02452876 -0.01159501\n",
            "  0.02612841 -0.05901875 -0.03638469 -0.02452876  0.01858372 -0.0902753\n",
            " -0.00512814 -0.05255187 -0.02237314 -0.02021751 -0.0547075  -0.00620595\n",
            " -0.01698407  0.05522933  0.07678558  0.01858372 -0.02237314  0.09295276\n",
            " -0.03099563  0.03906215 -0.06117437 -0.00836158 -0.0374625  -0.01375064\n",
            "  0.07355214 -0.02452876  0.03367309  0.0347509  -0.03854032 -0.03961813\n",
            " -0.00189471 -0.03099563 -0.046085    0.00133873  0.06492964  0.04013997\n",
            " -0.02345095  0.05307371  0.04013997 -0.02021751  0.01427248 -0.03422907\n",
            "  0.00672779  0.00457217  0.03043966  0.0519959   0.06169621 -0.00728377\n",
            "  0.00564998  0.05415152 -0.00836158  0.114509    0.06708527 -0.05578531\n",
            "  0.03043966 -0.02560657  0.10480869 -0.00620595 -0.04716281 -0.04824063\n",
            "  0.08540807 -0.01267283 -0.03315126 -0.00728377 -0.01375064  0.05954058\n",
            "  0.02181716  0.01858372 -0.01159501 -0.00297252  0.01750591 -0.02991782\n",
            " -0.02021751 -0.05794093  0.06061839 -0.04069594 -0.07195249 -0.05578531\n",
            "  0.04552903 -0.00943939 -0.03315126  0.04984027 -0.08488624  0.00564998\n",
            "  0.02073935 -0.00728377  0.10480869 -0.02452876 -0.00620595 -0.03854032\n",
            "  0.13714305  0.17055523  0.00241654  0.03798434 -0.05794093 -0.00943939\n",
            " -0.02345095 -0.0105172  -0.03422907 -0.00297252  0.06816308  0.00996123\n",
            "  0.00241654 -0.03854032  0.02612841 -0.08919748  0.06061839 -0.02884001\n",
            " -0.02991782 -0.0191397  -0.04069594  0.01535029 -0.02452876  0.00133873\n",
            "  0.06924089 -0.06979687 -0.02991782 -0.046085    0.01858372  0.00133873\n",
            " -0.03099563 -0.00405033  0.01535029  0.02289497  0.04552903 -0.04500719\n",
            " -0.03315126  0.097264    0.05415152  0.12313149 -0.08057499  0.09295276\n",
            " -0.05039625 -0.01159501 -0.0277622   0.05846277  0.08540807 -0.00081689\n",
            "  0.00672779  0.00888341  0.08001901  0.07139652 -0.02452876 -0.0547075\n",
            " -0.03638469  0.0164281   0.07786339 -0.03961813  0.01103904 -0.04069594\n",
            " -0.03422907  0.00564998  0.08864151 -0.03315126 -0.05686312 -0.03099563\n",
            "  0.05522933 -0.06009656  0.00133873 -0.02345095 -0.07410811  0.01966154\n",
            " -0.01590626 -0.01590626  0.03906215 -0.0730303 ]\n"
          ]
        }
      ]
    },
    {
      "cell_type": "code",
      "source": [
        "diabetes_X_train = diabetes_X[:-30]\n",
        "diabetes_X_test = diabetes_X[-30:]\n",
        "diabetes_Y_train = diabetes.target[:-30]\n",
        "diabetes_Y_test = diabetes.target[-30:]"
      ],
      "metadata": {
        "id": "ecX70pw5D4bw"
      },
      "execution_count": 70,
      "outputs": []
    },
    {
      "cell_type": "code",
      "source": [
        "model = linear_model.LinearRegression()\n",
        "model.fit(diabetes_X_train.reshape(-1, 1), diabetes_Y_train.reshape(-1, 1))\n",
        "diabetes_Y_predicted= model.predict(diabetes_X_test.reshape(-1, 1))\n"
      ],
      "metadata": {
        "id": "qfltia_OJWGt"
      },
      "execution_count": 72,
      "outputs": []
    },
    {
      "cell_type": "code",
      "source": [
        "print(\"Mean sq error is :\",mean_squared_error(diabetes_Y_test, diabetes_Y_predicted))"
      ],
      "metadata": {
        "colab": {
          "base_uri": "https://localhost:8080/"
        },
        "id": "Ev1n2P_C1FQn",
        "outputId": "e6553f43-1612-43c9-d9a3-efaa47cbcf8f"
      },
      "execution_count": 73,
      "outputs": [
        {
          "output_type": "stream",
          "name": "stdout",
          "text": [
            "Mean sq error is : 3035.060115291269\n"
          ]
        }
      ]
    },
    {
      "cell_type": "code",
      "source": [
        "print(\"Weights\",model.coef_)\n",
        "# print(\"Intercept\",model.intercept_)\n",
        "# Weights [[941.43097333]]\n",
        "# Intercept [153.39713623]"
      ],
      "metadata": {
        "colab": {
          "base_uri": "https://localhost:8080/"
        },
        "id": "CvDg1BGv1Zmy",
        "outputId": "7fbc7ea0-a785-423f-b7d9-3b1c78690e62"
      },
      "execution_count": 74,
      "outputs": [
        {
          "output_type": "stream",
          "name": "stdout",
          "text": [
            "Weights [[941.43097333]]\n",
            "Intercept [153.39713623]\n"
          ]
        }
      ]
    },
    {
      "cell_type": "code",
      "source": [
        "plt.scatter(diabetes_X_test,diabetes_Y_test)\n",
        "plt.plot(diabetes_X_test,diabetes_Y_predicted)"
      ],
      "metadata": {
        "colab": {
          "base_uri": "https://localhost:8080/",
          "height": 447
        },
        "id": "mGJLOMAW152M",
        "outputId": "11dc0b3d-f089-4dd8-adc3-889fdd83bc08"
      },
      "execution_count": 77,
      "outputs": [
        {
          "output_type": "execute_result",
          "data": {
            "text/plain": [
              "[<matplotlib.lines.Line2D at 0x7a87e5042d40>]"
            ]
          },
          "metadata": {},
          "execution_count": 77
        },
        {
          "output_type": "display_data",
          "data": {
            "text/plain": [
              "<Figure size 640x480 with 1 Axes>"
            ],
            "image/png": "[encoded data removed]"
          },
          "metadata": {}
        }
      ]
    }
  ]
}
